{
 "cells": [
  {
   "cell_type": "code",
   "execution_count": 1,
   "id": "97cc97e5",
   "metadata": {},
   "outputs": [],
   "source": [
    "import tensorflow as tf\n",
    "from tensorflow import keras\n",
    "import matplotlib.pyplot as plt\n",
    "%matplotlib inline\n",
    "import numpy as np\n",
    "import glob\n",
    "import os"
   ]
  },
  {
   "cell_type": "code",
   "execution_count": 2,
   "id": "34509dd5",
   "metadata": {},
   "outputs": [],
   "source": [
    "keras = tf.keras\n",
    "layers = tf.keras.layers"
   ]
  },
  {
   "cell_type": "markdown",
   "id": "effc098a",
   "metadata": {},
   "source": [
    "## 数据读取部分"
   ]
  },
  {
   "cell_type": "markdown",
   "id": "4ccdfdd9",
   "metadata": {},
   "source": [
    "#### 训练集"
   ]
  },
  {
   "cell_type": "code",
   "execution_count": 3,
   "id": "2d09eab1",
   "metadata": {},
   "outputs": [],
   "source": [
    "# 指定训练和验证数据集的路径\n",
    "train_image_path = glob.glob('./train/*/*.jpg')"
   ]
  },
  {
   "cell_type": "code",
   "execution_count": 4,
   "id": "8db41a70",
   "metadata": {},
   "outputs": [
    {
     "data": {
      "text/plain": [
       "['./train\\\\0\\\\exp1_num_108719.jpg',\n",
       " './train\\\\0\\\\exp1_num_108889.jpg',\n",
       " './train\\\\0\\\\exp1_num_265077.jpg',\n",
       " './train\\\\0\\\\exp1_num_290998.jpg',\n",
       " './train\\\\0\\\\exp1_num_297464.jpg']"
      ]
     },
     "execution_count": 4,
     "metadata": {},
     "output_type": "execute_result"
    }
   ],
   "source": [
    "train_image_path[:5]"
   ]
  },
  {
   "cell_type": "code",
   "execution_count": 5,
   "id": "8f4aeefe",
   "metadata": {},
   "outputs": [
    {
     "data": {
      "text/plain": [
       "'0'"
      ]
     },
     "execution_count": 5,
     "metadata": {},
     "output_type": "execute_result"
    }
   ],
   "source": [
    "train_image_path[0].split('\\\\')[1][0]"
   ]
  },
  {
   "cell_type": "code",
   "execution_count": 6,
   "id": "6628e45f",
   "metadata": {},
   "outputs": [],
   "source": [
    "train_image_label = [int(p.split('\\\\')[1][0])  for p in train_image_path ]"
   ]
  },
  {
   "cell_type": "code",
   "execution_count": 7,
   "id": "6ec8e69b",
   "metadata": {},
   "outputs": [
    {
     "data": {
      "text/plain": [
       "[3, 3, 3, 3, 3, 3, 3, 3, 3, 3]"
      ]
     },
     "execution_count": 7,
     "metadata": {},
     "output_type": "execute_result"
    }
   ],
   "source": [
    "train_image_label[240:250]"
   ]
  },
  {
   "cell_type": "code",
   "execution_count": 8,
   "id": "d7c43619",
   "metadata": {},
   "outputs": [],
   "source": [
    "# 训练集图片读取\n",
    "def load_train_image(path,label):\n",
    "    image = tf.io.read_file(path)\n",
    "    image = tf.image.decode_jpeg(image,channels=1)    # 解码图片\n",
    "    image = tf.image.grayscale_to_rgb(image)\n",
    "    image = tf.image.resize(image,[256,256])\n",
    "    image = tf.image.random_flip_left_right(image)\n",
    "    image = tf.image.random_flip_up_down(image)\n",
    "    image = tf.image.random_brightness(image,0.1)\n",
    "    image = tf.cast(image,tf.float32)   \n",
    "    image = image/255                                 # 先转换成float类型，再进行归一化处理\n",
    "    label = tf.reshape(label,[1])                     # [0,0,1]——>[[0],[0],[1]]\n",
    "    return image,label\n",
    "\n",
    "# 测试集图片读取\n",
    "def load_test_image(path,label):\n",
    "    image = tf.io.read_file(path)\n",
    "    image = tf.image.decode_jpeg(image,channels=1)    # 解码图片\n",
    "    image = tf.image.grayscale_to_rgb(image)\n",
    "    image = tf.image.resize(image,[256,256])\n",
    "    image = tf.cast(image,tf.float32)   \n",
    "    image = image/255                                 # 先转换成float类型，再进行归一化处理\n",
    "    label = tf.reshape(label,[1])                     # [0,0,1]——>[[0],[0],[1]]\n",
    "    return image,label"
   ]
  },
  {
   "cell_type": "code",
   "execution_count": 9,
   "id": "aa34334b",
   "metadata": {},
   "outputs": [],
   "source": [
    "train_image_ds = tf.data.Dataset.from_tensor_slices((train_image_path,train_image_label))\n",
    "AUTOTUNE = tf.data.experimental.AUTOTUNE  # 根据CPU性能进行自动分配并行运算\n",
    "train_image_ds = train_image_ds.map(load_train_image,num_parallel_calls=AUTOTUNE)"
   ]
  },
  {
   "cell_type": "code",
   "execution_count": 10,
   "id": "7ebca715",
   "metadata": {},
   "outputs": [],
   "source": [
    "BATCH_SIZE = 8\n",
    "train_count = len(train_image_path)"
   ]
  },
  {
   "cell_type": "code",
   "execution_count": 11,
   "id": "cd87ebd0",
   "metadata": {},
   "outputs": [],
   "source": [
    "train_image_ds = train_image_ds.repeat().shuffle(200).batch(BATCH_SIZE)\n",
    "train_image_ds = train_image_ds.prefetch(AUTOTUNE)  #训练的时候预读取一部分数据，这样可以加快速度"
   ]
  },
  {
   "cell_type": "markdown",
   "id": "83118bff",
   "metadata": {},
   "source": [
    "#### 测试集"
   ]
  },
  {
   "cell_type": "code",
   "execution_count": 12,
   "id": "c249e501",
   "metadata": {},
   "outputs": [],
   "source": [
    "test_image_path = glob.glob('./test/*/*.jpg')"
   ]
  },
  {
   "cell_type": "code",
   "execution_count": 13,
   "id": "5d7e0958",
   "metadata": {},
   "outputs": [],
   "source": [
    "test_count = len(test_image_path)"
   ]
  },
  {
   "cell_type": "code",
   "execution_count": 14,
   "id": "7ff39c92",
   "metadata": {},
   "outputs": [
    {
     "data": {
      "text/plain": [
       "48"
      ]
     },
     "execution_count": 14,
     "metadata": {},
     "output_type": "execute_result"
    }
   ],
   "source": [
    "test_count"
   ]
  },
  {
   "cell_type": "code",
   "execution_count": 15,
   "id": "57fcb272",
   "metadata": {},
   "outputs": [],
   "source": [
    "test_image_label = [int(p.split('\\\\')[1][0])  for p in test_image_path ]"
   ]
  },
  {
   "cell_type": "code",
   "execution_count": 16,
   "id": "7ced24c4",
   "metadata": {},
   "outputs": [
    {
     "data": {
      "text/plain": [
       "[3, 3, 3, 3, 3]"
      ]
     },
     "execution_count": 16,
     "metadata": {},
     "output_type": "execute_result"
    }
   ],
   "source": [
    "test_image_label[-5:]"
   ]
  },
  {
   "cell_type": "code",
   "execution_count": 17,
   "id": "4b4208da",
   "metadata": {},
   "outputs": [],
   "source": [
    "test_image_ds = tf.data.Dataset.from_tensor_slices((test_image_path,test_image_label))"
   ]
  },
  {
   "cell_type": "code",
   "execution_count": 18,
   "id": "094b7ee8",
   "metadata": {},
   "outputs": [],
   "source": [
    "test_image_ds = test_image_ds.map(load_test_image,num_parallel_calls=AUTOTUNE)\n",
    "test_image_ds = test_image_ds.repeat().batch(BATCH_SIZE)\n",
    "test_image_ds = test_image_ds.prefetch(AUTOTUNE)  #训练的时候预读取一部分数据，这样可以加快速度"
   ]
  },
  {
   "cell_type": "markdown",
   "id": "a3b5ab94",
   "metadata": {},
   "source": [
    "#### 模型model"
   ]
  },
  {
   "cell_type": "code",
   "execution_count": null,
   "id": "b7ca4d1c",
   "metadata": {},
   "outputs": [],
   "source": []
  },
  {
   "cell_type": "code",
   "execution_count": 19,
   "id": "ee7b7785",
   "metadata": {},
   "outputs": [],
   "source": [
    "# 加载ResNet50预训练模型，不包含顶层\n",
    "covn_base = tf.keras.applications.ResNet101V2(weights='imagenet', include_top=False, input_shape=(256,256,3))\n",
    "# 设置参数不可训练\n",
    "covn_base.trainable = False\n",
    "model = keras.Sequential()\n",
    "model.add(covn_base)  # 卷积基\n",
    "model.add(layers.GlobalAveragePooling2D())\n",
    "model.add(layers.Dense(512,activation='relu'))   \n",
    "model.add(tf.keras.layers.Dropout(0.5))\n",
    "model.add(layers.Dense(256,activation='relu'))\n",
    "model.add(keras.layers.BatchNormalization())    # 批标准化      \n",
    "model.add(tf.keras.layers.Dropout(0.5))\n",
    "model.add(layers.Dense(64,activation='relu'))\n",
    "model.add(keras.layers.BatchNormalization())    # 批标准化      \n",
    "model.add(tf.keras.layers.Dropout(0.5))\n",
    "model.add(layers.Dense(64,activation='relu'))\n",
    "model.add(tf.keras.layers.Dropout(0.2))\n",
    "model.add(layers.Dense(4,activation='softmax'))"
   ]
  },
  {
   "cell_type": "code",
   "execution_count": 20,
   "id": "f862e212",
   "metadata": {},
   "outputs": [],
   "source": [
    "model.compile(optimizer=keras.optimizers.Adam(learning_rate=0.0005),\n",
    "             loss='sparse_categorical_crossentropy', \n",
    "             metrics=['acc']\n",
    "             )"
   ]
  },
  {
   "cell_type": "code",
   "execution_count": 21,
   "id": "5fdfcf11",
   "metadata": {
    "scrolled": true
   },
   "outputs": [
    {
     "name": "stdout",
     "output_type": "stream",
     "text": [
      "Epoch 1/120\n",
      "33/33 [==============================] - 14s 125ms/step - loss: 2.0714 - acc: 0.2424 - val_loss: 1.3840 - val_acc: 0.3542\n",
      "Epoch 2/120\n",
      "33/33 [==============================] - 2s 73ms/step - loss: 1.8322 - acc: 0.2500 - val_loss: 1.3129 - val_acc: 0.3542\n",
      "Epoch 3/120\n",
      "33/33 [==============================] - 2s 73ms/step - loss: 1.6929 - acc: 0.3182 - val_loss: 1.2993 - val_acc: 0.3750\n",
      "Epoch 4/120\n",
      "33/33 [==============================] - 2s 73ms/step - loss: 1.6663 - acc: 0.3258 - val_loss: 1.2476 - val_acc: 0.4167\n",
      "Epoch 5/120\n",
      "33/33 [==============================] - 2s 74ms/step - loss: 1.5571 - acc: 0.3523 - val_loss: 1.1813 - val_acc: 0.4792\n",
      "Epoch 6/120\n",
      "33/33 [==============================] - 2s 74ms/step - loss: 1.6906 - acc: 0.3371 - val_loss: 1.2240 - val_acc: 0.5417\n",
      "Epoch 7/120\n",
      "33/33 [==============================] - 2s 74ms/step - loss: 1.5514 - acc: 0.3485 - val_loss: 1.2400 - val_acc: 0.4375\n",
      "Epoch 8/120\n",
      "33/33 [==============================] - 2s 73ms/step - loss: 1.5680 - acc: 0.3295 - val_loss: 1.2291 - val_acc: 0.4583\n",
      "Epoch 9/120\n",
      "33/33 [==============================] - 2s 73ms/step - loss: 1.5926 - acc: 0.2955 - val_loss: 1.2077 - val_acc: 0.5625\n",
      "Epoch 10/120\n",
      "33/33 [==============================] - 2s 75ms/step - loss: 1.5087 - acc: 0.3523 - val_loss: 1.1723 - val_acc: 0.5417\n",
      "Epoch 11/120\n",
      "33/33 [==============================] - 3s 78ms/step - loss: 1.4972 - acc: 0.3561 - val_loss: 1.1575 - val_acc: 0.5417\n",
      "Epoch 12/120\n",
      "33/33 [==============================] - 2s 75ms/step - loss: 1.4666 - acc: 0.3712 - val_loss: 1.1694 - val_acc: 0.5000\n",
      "Epoch 13/120\n",
      "33/33 [==============================] - 2s 73ms/step - loss: 1.5667 - acc: 0.3333 - val_loss: 1.1590 - val_acc: 0.5833\n",
      "Epoch 14/120\n",
      "33/33 [==============================] - 2s 75ms/step - loss: 1.5153 - acc: 0.3750 - val_loss: 1.1228 - val_acc: 0.5208\n",
      "Epoch 15/120\n",
      "33/33 [==============================] - 2s 72ms/step - loss: 1.3801 - acc: 0.4015 - val_loss: 1.1395 - val_acc: 0.6042\n",
      "Epoch 16/120\n",
      "33/33 [==============================] - 2s 73ms/step - loss: 1.4328 - acc: 0.3864 - val_loss: 1.1352 - val_acc: 0.6042\n",
      "Epoch 17/120\n",
      "33/33 [==============================] - 2s 73ms/step - loss: 1.3461 - acc: 0.3864 - val_loss: 1.1543 - val_acc: 0.6042\n",
      "Epoch 18/120\n",
      "33/33 [==============================] - 2s 73ms/step - loss: 1.4530 - acc: 0.3295 - val_loss: 1.1510 - val_acc: 0.6250\n",
      "Epoch 19/120\n",
      "33/33 [==============================] - 2s 73ms/step - loss: 1.3455 - acc: 0.3674 - val_loss: 1.1263 - val_acc: 0.6042\n",
      "Epoch 20/120\n",
      "33/33 [==============================] - 2s 74ms/step - loss: 1.4916 - acc: 0.3598 - val_loss: 1.0992 - val_acc: 0.5625\n",
      "Epoch 21/120\n",
      "33/33 [==============================] - 2s 73ms/step - loss: 1.3455 - acc: 0.4242 - val_loss: 1.1021 - val_acc: 0.5625\n",
      "Epoch 22/120\n",
      "33/33 [==============================] - 2s 74ms/step - loss: 1.3669 - acc: 0.3788 - val_loss: 1.0868 - val_acc: 0.5417\n",
      "Epoch 23/120\n",
      "33/33 [==============================] - 3s 79ms/step - loss: 1.3503 - acc: 0.4015 - val_loss: 1.0981 - val_acc: 0.5000\n",
      "Epoch 24/120\n",
      "33/33 [==============================] - 2s 68ms/step - loss: 1.3227 - acc: 0.4091 - val_loss: 1.0635 - val_acc: 0.5000\n",
      "Epoch 25/120\n",
      "33/33 [==============================] - 2s 68ms/step - loss: 1.4250 - acc: 0.3523 - val_loss: 1.0547 - val_acc: 0.5625\n",
      "Epoch 26/120\n",
      "33/33 [==============================] - 2s 68ms/step - loss: 1.2507 - acc: 0.4394 - val_loss: 1.0661 - val_acc: 0.6250\n",
      "Epoch 27/120\n",
      "33/33 [==============================] - 2s 69ms/step - loss: 1.2465 - acc: 0.4242 - val_loss: 1.0480 - val_acc: 0.6042\n",
      "Epoch 28/120\n",
      "33/33 [==============================] - 2s 69ms/step - loss: 1.2208 - acc: 0.4583 - val_loss: 1.0310 - val_acc: 0.5625\n",
      "Epoch 29/120\n",
      "33/33 [==============================] - 2s 68ms/step - loss: 1.1810 - acc: 0.4962 - val_loss: 1.0228 - val_acc: 0.5417\n",
      "Epoch 30/120\n",
      "33/33 [==============================] - 2s 68ms/step - loss: 1.1570 - acc: 0.4962 - val_loss: 1.0330 - val_acc: 0.6250\n",
      "Epoch 31/120\n",
      "33/33 [==============================] - 2s 68ms/step - loss: 1.2139 - acc: 0.4924 - val_loss: 0.9974 - val_acc: 0.6250\n",
      "Epoch 32/120\n",
      "33/33 [==============================] - 2s 68ms/step - loss: 1.1103 - acc: 0.5265 - val_loss: 0.9860 - val_acc: 0.6458\n",
      "Epoch 33/120\n",
      "33/33 [==============================] - 2s 68ms/step - loss: 1.2489 - acc: 0.4924 - val_loss: 0.9558 - val_acc: 0.5833\n",
      "Epoch 34/120\n",
      "33/33 [==============================] - 2s 69ms/step - loss: 1.1539 - acc: 0.4773 - val_loss: 0.9352 - val_acc: 0.6875\n",
      "Epoch 35/120\n",
      "33/33 [==============================] - 2s 68ms/step - loss: 1.1043 - acc: 0.5076 - val_loss: 0.9145 - val_acc: 0.7292\n",
      "Epoch 36/120\n",
      "33/33 [==============================] - 3s 80ms/step - loss: 1.1631 - acc: 0.4811 - val_loss: 0.8883 - val_acc: 0.6667\n",
      "Epoch 37/120\n",
      "33/33 [==============================] - 3s 78ms/step - loss: 1.1410 - acc: 0.5455 - val_loss: 0.8904 - val_acc: 0.6250\n",
      "Epoch 38/120\n",
      "33/33 [==============================] - 2s 73ms/step - loss: 1.1222 - acc: 0.5152 - val_loss: 0.8536 - val_acc: 0.6042\n",
      "Epoch 39/120\n",
      "33/33 [==============================] - 2s 74ms/step - loss: 1.1338 - acc: 0.5341 - val_loss: 0.8001 - val_acc: 0.6875\n",
      "Epoch 40/120\n",
      "33/33 [==============================] - 2s 74ms/step - loss: 1.0220 - acc: 0.5568 - val_loss: 0.7948 - val_acc: 0.6875\n",
      "Epoch 41/120\n",
      "33/33 [==============================] - 2s 74ms/step - loss: 1.0022 - acc: 0.6098 - val_loss: 0.7735 - val_acc: 0.6667\n",
      "Epoch 42/120\n",
      "33/33 [==============================] - 2s 74ms/step - loss: 1.0097 - acc: 0.5568 - val_loss: 0.7928 - val_acc: 0.6458\n",
      "Epoch 43/120\n",
      "33/33 [==============================] - 2s 73ms/step - loss: 0.9285 - acc: 0.6250 - val_loss: 0.7697 - val_acc: 0.6875\n",
      "Epoch 44/120\n",
      "33/33 [==============================] - 2s 73ms/step - loss: 0.9764 - acc: 0.5833 - val_loss: 0.7388 - val_acc: 0.7708\n",
      "Epoch 45/120\n",
      "33/33 [==============================] - 2s 73ms/step - loss: 0.9810 - acc: 0.6174 - val_loss: 0.7134 - val_acc: 0.7500\n",
      "Epoch 46/120\n",
      "33/33 [==============================] - 2s 72ms/step - loss: 0.9280 - acc: 0.6098 - val_loss: 0.7062 - val_acc: 0.7500\n",
      "Epoch 47/120\n",
      "33/33 [==============================] - 2s 73ms/step - loss: 0.9919 - acc: 0.5871 - val_loss: 0.7192 - val_acc: 0.6875\n",
      "Epoch 48/120\n",
      "33/33 [==============================] - 2s 73ms/step - loss: 0.9495 - acc: 0.5833 - val_loss: 0.7438 - val_acc: 0.6667\n",
      "Epoch 49/120\n",
      "33/33 [==============================] - 2s 72ms/step - loss: 0.8448 - acc: 0.6705 - val_loss: 0.7336 - val_acc: 0.7500\n",
      "Epoch 50/120\n",
      "33/33 [==============================] - 2s 74ms/step - loss: 1.0113 - acc: 0.6136 - val_loss: 0.7009 - val_acc: 0.7708\n",
      "Epoch 51/120\n",
      "33/33 [==============================] - 2s 74ms/step - loss: 0.8854 - acc: 0.6402 - val_loss: 0.7012 - val_acc: 0.7292\n",
      "Epoch 52/120\n",
      "33/33 [==============================] - 2s 74ms/step - loss: 0.9014 - acc: 0.6402 - val_loss: 0.6880 - val_acc: 0.7083\n",
      "Epoch 53/120\n",
      "33/33 [==============================] - 2s 73ms/step - loss: 0.9130 - acc: 0.6515 - val_loss: 0.6842 - val_acc: 0.7083\n",
      "Epoch 54/120\n",
      "33/33 [==============================] - 2s 72ms/step - loss: 0.9271 - acc: 0.6098 - val_loss: 0.7274 - val_acc: 0.6667\n",
      "Epoch 55/120\n",
      "33/33 [==============================] - 2s 72ms/step - loss: 0.8004 - acc: 0.6780 - val_loss: 0.7666 - val_acc: 0.6667\n",
      "Epoch 56/120\n",
      "33/33 [==============================] - 2s 73ms/step - loss: 0.8729 - acc: 0.6629 - val_loss: 0.6484 - val_acc: 0.7500\n",
      "Epoch 57/120\n",
      "33/33 [==============================] - 3s 78ms/step - loss: 0.8414 - acc: 0.6742 - val_loss: 0.6529 - val_acc: 0.7708\n",
      "Epoch 58/120\n",
      "33/33 [==============================] - 2s 76ms/step - loss: 0.8321 - acc: 0.6856 - val_loss: 0.5624 - val_acc: 0.8542\n",
      "Epoch 59/120\n",
      "33/33 [==============================] - 2s 75ms/step - loss: 0.8089 - acc: 0.6742 - val_loss: 0.5733 - val_acc: 0.8333\n",
      "Epoch 60/120\n",
      "33/33 [==============================] - 2s 73ms/step - loss: 0.9457 - acc: 0.6515 - val_loss: 0.6278 - val_acc: 0.8125\n",
      "Epoch 61/120\n",
      "33/33 [==============================] - 2s 74ms/step - loss: 0.7679 - acc: 0.6894 - val_loss: 0.6278 - val_acc: 0.8125\n",
      "Epoch 62/120\n",
      "33/33 [==============================] - 2s 76ms/step - loss: 0.7882 - acc: 0.6780 - val_loss: 0.6448 - val_acc: 0.7917\n",
      "Epoch 63/120\n",
      "33/33 [==============================] - 2s 72ms/step - loss: 0.7611 - acc: 0.7197 - val_loss: 0.6325 - val_acc: 0.8125\n",
      "Epoch 64/120\n",
      "33/33 [==============================] - 3s 79ms/step - loss: 0.7883 - acc: 0.7008 - val_loss: 0.6197 - val_acc: 0.7917\n",
      "Epoch 65/120\n",
      "33/33 [==============================] - 2s 74ms/step - loss: 0.7554 - acc: 0.7045 - val_loss: 0.6273 - val_acc: 0.8125\n",
      "Epoch 66/120\n",
      "33/33 [==============================] - 2s 75ms/step - loss: 0.7509 - acc: 0.7083 - val_loss: 0.6002 - val_acc: 0.8333\n",
      "Epoch 67/120\n",
      "33/33 [==============================] - 2s 74ms/step - loss: 0.6654 - acc: 0.7614 - val_loss: 0.5694 - val_acc: 0.8333\n",
      "Epoch 68/120\n",
      "33/33 [==============================] - 3s 78ms/step - loss: 0.6699 - acc: 0.7159 - val_loss: 0.5447 - val_acc: 0.8333\n",
      "Epoch 69/120\n",
      "33/33 [==============================] - 2s 68ms/step - loss: 0.6834 - acc: 0.7500 - val_loss: 0.6067 - val_acc: 0.7708\n",
      "Epoch 70/120\n",
      "33/33 [==============================] - 2s 69ms/step - loss: 0.6474 - acc: 0.7765 - val_loss: 0.5740 - val_acc: 0.7708\n",
      "Epoch 71/120\n",
      "33/33 [==============================] - 2s 71ms/step - loss: 0.6512 - acc: 0.7576 - val_loss: 0.5126 - val_acc: 0.8125\n",
      "Epoch 72/120\n",
      "33/33 [==============================] - 2s 71ms/step - loss: 0.7511 - acc: 0.7424 - val_loss: 0.4851 - val_acc: 0.8333\n",
      "Epoch 73/120\n",
      "33/33 [==============================] - 2s 72ms/step - loss: 0.6946 - acc: 0.7462 - val_loss: 0.5340 - val_acc: 0.8542\n",
      "Epoch 74/120\n",
      "33/33 [==============================] - 2s 70ms/step - loss: 0.7148 - acc: 0.7424 - val_loss: 0.5546 - val_acc: 0.8333\n",
      "Epoch 75/120\n",
      "33/33 [==============================] - 2s 70ms/step - loss: 0.6550 - acc: 0.7500 - val_loss: 0.5885 - val_acc: 0.8125\n",
      "Epoch 76/120\n",
      "33/33 [==============================] - 2s 69ms/step - loss: 0.5752 - acc: 0.7803 - val_loss: 0.5296 - val_acc: 0.8333\n",
      "Epoch 77/120\n",
      "33/33 [==============================] - 2s 69ms/step - loss: 0.7912 - acc: 0.7424 - val_loss: 0.5600 - val_acc: 0.8125\n",
      "Epoch 78/120\n",
      "33/33 [==============================] - 2s 68ms/step - loss: 0.7274 - acc: 0.7311 - val_loss: 0.5685 - val_acc: 0.8542\n",
      "Epoch 79/120\n",
      "33/33 [==============================] - 2s 68ms/step - loss: 0.6566 - acc: 0.7614 - val_loss: 0.5372 - val_acc: 0.8125\n",
      "Epoch 80/120\n",
      "33/33 [==============================] - 2s 69ms/step - loss: 0.5999 - acc: 0.7841 - val_loss: 0.4968 - val_acc: 0.8750\n",
      "Epoch 81/120\n",
      "33/33 [==============================] - 2s 69ms/step - loss: 0.6039 - acc: 0.7841 - val_loss: 0.4587 - val_acc: 0.8542\n",
      "Epoch 82/120\n",
      "33/33 [==============================] - 2s 70ms/step - loss: 0.5750 - acc: 0.7879 - val_loss: 0.5428 - val_acc: 0.8333\n",
      "Epoch 83/120\n",
      "33/33 [==============================] - 2s 70ms/step - loss: 0.7216 - acc: 0.6932 - val_loss: 0.5896 - val_acc: 0.8125\n",
      "Epoch 84/120\n",
      "33/33 [==============================] - 2s 69ms/step - loss: 0.5374 - acc: 0.8144 - val_loss: 0.4853 - val_acc: 0.8542\n",
      "Epoch 85/120\n",
      "33/33 [==============================] - 2s 69ms/step - loss: 0.5930 - acc: 0.7879 - val_loss: 0.5427 - val_acc: 0.7917\n",
      "Epoch 86/120\n",
      "33/33 [==============================] - 2s 73ms/step - loss: 0.4799 - acc: 0.8182 - val_loss: 0.4560 - val_acc: 0.8958\n",
      "Epoch 87/120\n",
      "33/33 [==============================] - 2s 71ms/step - loss: 0.5282 - acc: 0.8144 - val_loss: 0.4257 - val_acc: 0.8958\n",
      "Epoch 88/120\n",
      "33/33 [==============================] - 2s 68ms/step - loss: 0.7004 - acc: 0.7652 - val_loss: 0.4419 - val_acc: 0.8542\n",
      "Epoch 89/120\n",
      "33/33 [==============================] - 2s 69ms/step - loss: 0.5612 - acc: 0.7917 - val_loss: 0.4319 - val_acc: 0.8750\n",
      "Epoch 90/120\n",
      "33/33 [==============================] - 2s 68ms/step - loss: 0.5640 - acc: 0.7992 - val_loss: 0.4139 - val_acc: 0.8750\n",
      "Epoch 91/120\n",
      "33/33 [==============================] - 2s 68ms/step - loss: 0.5297 - acc: 0.8030 - val_loss: 0.3992 - val_acc: 0.8958\n",
      "Epoch 92/120\n",
      "33/33 [==============================] - 2s 70ms/step - loss: 0.4710 - acc: 0.8295 - val_loss: 0.3835 - val_acc: 0.8958\n",
      "Epoch 93/120\n",
      "33/33 [==============================] - 2s 70ms/step - loss: 0.5163 - acc: 0.8030 - val_loss: 0.4838 - val_acc: 0.8542\n",
      "Epoch 94/120\n",
      "33/33 [==============================] - 2s 70ms/step - loss: 0.5689 - acc: 0.8068 - val_loss: 0.4887 - val_acc: 0.8750\n",
      "Epoch 95/120\n",
      "33/33 [==============================] - 2s 70ms/step - loss: 0.5343 - acc: 0.8295 - val_loss: 0.4464 - val_acc: 0.8542\n",
      "Epoch 96/120\n",
      "33/33 [==============================] - 2s 70ms/step - loss: 0.4526 - acc: 0.8447 - val_loss: 0.4649 - val_acc: 0.8750\n",
      "Epoch 97/120\n",
      "33/33 [==============================] - 2s 70ms/step - loss: 0.4691 - acc: 0.8409 - val_loss: 0.4134 - val_acc: 0.8750\n",
      "Epoch 98/120\n",
      "33/33 [==============================] - 2s 70ms/step - loss: 0.5332 - acc: 0.8144 - val_loss: 0.4230 - val_acc: 0.8750\n",
      "Epoch 99/120\n",
      "33/33 [==============================] - 2s 70ms/step - loss: 0.4921 - acc: 0.8258 - val_loss: 0.4197 - val_acc: 0.8750\n",
      "Epoch 100/120\n",
      "33/33 [==============================] - 2s 69ms/step - loss: 0.4148 - acc: 0.8636 - val_loss: 0.4269 - val_acc: 0.8333\n",
      "Epoch 101/120\n",
      "33/33 [==============================] - 2s 71ms/step - loss: 0.5200 - acc: 0.8447 - val_loss: 0.4499 - val_acc: 0.8333\n",
      "Epoch 102/120\n",
      "33/33 [==============================] - 2s 70ms/step - loss: 0.5271 - acc: 0.8144 - val_loss: 0.4778 - val_acc: 0.8333\n",
      "Epoch 103/120\n",
      "33/33 [==============================] - 2s 70ms/step - loss: 0.4257 - acc: 0.8409 - val_loss: 0.4687 - val_acc: 0.8333\n",
      "Epoch 104/120\n",
      "33/33 [==============================] - 2s 69ms/step - loss: 0.4775 - acc: 0.8333 - val_loss: 0.4058 - val_acc: 0.8542\n",
      "Epoch 105/120\n",
      "33/33 [==============================] - 2s 69ms/step - loss: 0.4888 - acc: 0.8409 - val_loss: 0.3944 - val_acc: 0.8750\n",
      "Epoch 106/120\n",
      "33/33 [==============================] - 2s 70ms/step - loss: 0.4576 - acc: 0.8447 - val_loss: 0.4536 - val_acc: 0.8333\n",
      "Epoch 107/120\n",
      "33/33 [==============================] - 2s 69ms/step - loss: 0.4340 - acc: 0.8409 - val_loss: 0.3989 - val_acc: 0.8750\n",
      "Epoch 108/120\n",
      "33/33 [==============================] - 2s 69ms/step - loss: 0.3526 - acc: 0.8826 - val_loss: 0.4119 - val_acc: 0.8750\n",
      "Epoch 109/120\n",
      "33/33 [==============================] - 2s 70ms/step - loss: 0.4330 - acc: 0.8409 - val_loss: 0.4431 - val_acc: 0.8750\n",
      "Epoch 110/120\n",
      "33/33 [==============================] - 2s 69ms/step - loss: 0.4232 - acc: 0.8447 - val_loss: 0.4521 - val_acc: 0.8125\n",
      "Epoch 111/120\n",
      "33/33 [==============================] - 2s 70ms/step - loss: 0.4663 - acc: 0.8371 - val_loss: 0.4992 - val_acc: 0.8125\n",
      "Epoch 112/120\n",
      "33/33 [==============================] - 2s 69ms/step - loss: 0.5049 - acc: 0.8106 - val_loss: 0.4254 - val_acc: 0.8542\n",
      "Epoch 113/120\n",
      "33/33 [==============================] - 2s 70ms/step - loss: 0.4844 - acc: 0.8409 - val_loss: 0.4315 - val_acc: 0.8125\n",
      "Epoch 114/120\n",
      "33/33 [==============================] - 2s 69ms/step - loss: 0.4903 - acc: 0.8258 - val_loss: 0.4897 - val_acc: 0.8542\n",
      "Epoch 115/120\n",
      "33/33 [==============================] - 2s 69ms/step - loss: 0.4355 - acc: 0.8371 - val_loss: 0.5064 - val_acc: 0.8542\n",
      "Epoch 116/120\n",
      "33/33 [==============================] - 2s 68ms/step - loss: 0.3493 - acc: 0.8826 - val_loss: 0.4950 - val_acc: 0.8333\n",
      "Epoch 117/120\n",
      "33/33 [==============================] - 2s 69ms/step - loss: 0.4633 - acc: 0.8447 - val_loss: 0.4658 - val_acc: 0.8542\n",
      "Epoch 118/120\n",
      "33/33 [==============================] - 2s 68ms/step - loss: 0.4105 - acc: 0.8447 - val_loss: 0.4093 - val_acc: 0.8750\n",
      "Epoch 119/120\n",
      "33/33 [==============================] - 2s 68ms/step - loss: 0.3948 - acc: 0.8561 - val_loss: 0.4874 - val_acc: 0.8125\n",
      "Epoch 120/120\n",
      "33/33 [==============================] - 2s 69ms/step - loss: 0.3643 - acc: 0.8674 - val_loss: 0.5246 - val_acc: 0.8333\n"
     ]
    }
   ],
   "source": [
    "epochs = 180\n",
    "history = model.fit(\n",
    "    train_image_ds,\n",
    "    steps_per_epoch=train_count//BATCH_SIZE,\n",
    "    epochs=epochs,\n",
    "    validation_data=test_image_ds,\n",
    "    validation_steps=len(test_image_path)//BATCH_SIZE\n",
    ")"
   ]
  },
  {
   "cell_type": "code",
   "execution_count": null,
   "id": "c2ed674d",
   "metadata": {},
   "outputs": [],
   "source": [
    "plt.plot(history.history['loss'], 'r', label='Training loss')\n",
    "plt.plot(history.history['val_loss'], 'b', label='Validation loss')\n",
    "plt.xlabel('Epoch')  # x轴变量名称  \n",
    "plt.ylabel('Loss')  # y轴变量名称  \n",
    "plt.legend()  # 画出曲线图标  "
   ]
  },
  {
   "cell_type": "code",
   "execution_count": null,
   "id": "f3f864f1",
   "metadata": {},
   "outputs": [],
   "source": [
    "plt.plot(history.history['acc'], 'r', label='Training Acc')\n",
    "plt.plot(history.history['val_acc'], 'b', label='Validation Acc')\n",
    "plt.xlabel('Epoch')  # x轴变量名称  \n",
    "plt.ylabel('Acc')  # y轴变量名称  \n",
    "plt.legend()  # 画出曲线图标  "
   ]
  },
  {
   "cell_type": "code",
   "execution_count": null,
   "id": "6131a82d",
   "metadata": {},
   "outputs": [],
   "source": [
    "covn_base.trainable = True\n",
    "\n",
    "# fine_tune_at = -10\n",
    "\n",
    "# for layer in covn_base.layers[:fine_tune_at]:\n",
    "#     layers.trainable = False\n",
    "\n",
    "# 一定要以更低的学习速率\n",
    "model.compile( loss='sparse_categorical_crossentropy', \n",
    "              optimizer=tf.keras.optimizers.Adam(learning_rate=0.00005/10),\n",
    "              metrics=['acc']\n",
    "             )\n",
    "initial_epochs = 180       #已经训练的epoch\n",
    "fine_tune_epochs = 250    #继续训练的epoch\n",
    "total_epochs = initial_epochs + fine_tune_epochs"
   ]
  },
  {
   "cell_type": "code",
   "execution_count": null,
   "id": "88405240",
   "metadata": {},
   "outputs": [],
   "source": [
    "history = model.fit(\n",
    "    train_image_ds,\n",
    "    steps_per_epoch = train_count//BATCH_SIZE,\n",
    "    epochs=total_epochs,\n",
    "    initial_epoch=initial_epochs,\n",
    "    validation_data=test_image_ds,\n",
    "    validation_steps=test_count//BATCH_SIZE\n",
    ")"
   ]
  },
  {
   "cell_type": "code",
   "execution_count": null,
   "id": "11c3e5a3",
   "metadata": {},
   "outputs": [],
   "source": [
    "plt.plot(history.history['loss'], 'r', label='Training loss')\n",
    "plt.plot(history.history['val_loss'], 'b', label='Validation loss')\n",
    "plt.xlabel('Epoch')  # x轴变量名称  \n",
    "plt.ylabel('Loss')  # y轴变量名称  \n",
    "plt.legend()  # 画出曲线图标  "
   ]
  },
  {
   "cell_type": "code",
   "execution_count": null,
   "id": "567a6e52",
   "metadata": {},
   "outputs": [],
   "source": [
    "plt.plot(history.history['acc'], 'r', label='Training Acc')\n",
    "plt.plot(history.history['val_acc'], 'b', label='Validation Acc')\n",
    "plt.xlabel('Epoch')  # x轴变量名称  \n",
    "plt.ylabel('Acc')  # y轴变量名称  \n",
    "plt.legend()  # 画出曲线图标  "
   ]
  },
  {
   "cell_type": "code",
   "execution_count": null,
   "id": "844c669c",
   "metadata": {},
   "outputs": [],
   "source": [
    "model.save('model_surface_defect1024.h5')"
   ]
  },
  {
   "cell_type": "code",
   "execution_count": null,
   "id": "43e5273b",
   "metadata": {},
   "outputs": [],
   "source": [
    "new_model = tf.keras.models.load_model('model_surface_defect1024.h5')"
   ]
  },
  {
   "cell_type": "code",
   "execution_count": null,
   "id": "657a3f18",
   "metadata": {},
   "outputs": [],
   "source": [
    "# 测试集图片读取\n",
    "def load_predict_image(path):\n",
    "    image = tf.io.read_file(path)\n",
    "    image = tf.image.decode_jpeg(image,channels=1)    # 解码图片\n",
    "    image = tf.image.grayscale_to_rgb(image)\n",
    "    image = tf.cast(image,tf.float32)   \n",
    "    image = image/255                                 # 先转换成float类型，再进行归一化处理       \n",
    "    return image"
   ]
  },
  {
   "cell_type": "code",
   "execution_count": null,
   "id": "2d695170",
   "metadata": {},
   "outputs": [],
   "source": [
    "img_path = r'C:\\Users\\Administrator\\Desktop\\Workers\\chenceng\\gray_train\\2liugua\\12_2_8_12.jpg'\n",
    "img = load_predict_image(img_path)"
   ]
  },
  {
   "cell_type": "code",
   "execution_count": null,
   "id": "4987a11e",
   "metadata": {},
   "outputs": [],
   "source": [
    "img.shape"
   ]
  },
  {
   "cell_type": "code",
   "execution_count": null,
   "id": "25bc4100",
   "metadata": {},
   "outputs": [],
   "source": [
    "img = tf.expand_dims(img, axis=0)\n",
    "\n",
    "pred = new_model.predict(img)"
   ]
  },
  {
   "cell_type": "code",
   "execution_count": null,
   "id": "72171ee1",
   "metadata": {},
   "outputs": [],
   "source": [
    "pred "
   ]
  },
  {
   "cell_type": "code",
   "execution_count": null,
   "id": "8792d266",
   "metadata": {},
   "outputs": [],
   "source": [
    "label_to_index = {'无缺陷': 0,'漏涂': 1,'流挂': 2,'堆积': 3}\n",
    "\n",
    "index_to_label = dict((v, k) for k, v in label_to_index.items())\n",
    "\n"
   ]
  },
  {
   "cell_type": "code",
   "execution_count": null,
   "id": "8b68b5fe",
   "metadata": {},
   "outputs": [],
   "source": [
    "np.argmax(pred)"
   ]
  },
  {
   "cell_type": "code",
   "execution_count": null,
   "id": "89ed7adb",
   "metadata": {},
   "outputs": [],
   "source": [
    "index_to_label.get(np.argmax(pred))"
   ]
  },
  {
   "cell_type": "code",
   "execution_count": null,
   "id": "c3625336",
   "metadata": {},
   "outputs": [],
   "source": []
  },
  {
   "cell_type": "code",
   "execution_count": null,
   "id": "51b0bfab",
   "metadata": {},
   "outputs": [],
   "source": [
    "covn_base.trainable = True\n",
    "\n",
    "fine_tune_at = -10\n",
    "\n",
    "for layer in covn_base.layers[:fine_tune_at]:\n",
    "    layers.trainable = False\n",
    "\n",
    "# 一定要以更低的学习速率\n",
    "model.compile( loss='sparse_categorical_crossentropy', \n",
    "              optimizer=tf.keras.optimizers.Adam(learning_rate=0.00001/10),\n",
    "              metrics=['acc']\n",
    "             )\n",
    "initial_epochs = 270       #已经训练的epoch\n",
    "fine_tune_epochs = 50    #继续训练的epoch\n",
    "total_epochs = initial_epochs + fine_tune_epochs"
   ]
  },
  {
   "cell_type": "code",
   "execution_count": null,
   "id": "e332bf92",
   "metadata": {},
   "outputs": [],
   "source": [
    "history = model.fit(\n",
    "    train_image_ds,\n",
    "    steps_per_epoch = train_count//BATCH_SIZE,\n",
    "    epochs=total_epochs,\n",
    "    initial_epoch=initial_epochs,\n",
    "    validation_data=test_image_ds,\n",
    "    validation_steps=test_count//BATCH_SIZE\n",
    ")"
   ]
  },
  {
   "cell_type": "code",
   "execution_count": null,
   "id": "542dfdc4",
   "metadata": {},
   "outputs": [],
   "source": [
    "plt.plot(history.history['loss'], 'r', label='Training loss')\n",
    "plt.plot(history.history['val_loss'], 'b', label='Validation loss')\n",
    "plt.xlabel('Epoch')  # x轴变量名称  \n",
    "plt.ylabel('Loss')  # y轴变量名称  \n",
    "plt.legend()  # 画出曲线图标  "
   ]
  },
  {
   "cell_type": "code",
   "execution_count": null,
   "id": "fc577d57",
   "metadata": {},
   "outputs": [],
   "source": [
    "plt.plot(history.history['acc'], 'r', label='Training Acc')\n",
    "plt.plot(history.history['val_acc'], 'b', label='Validation Acc')\n",
    "plt.xlabel('Epoch')  # x轴变量名称  \n",
    "plt.ylabel('Acc')  # y轴变量名称  \n",
    "plt.legend()  # 画出曲线图标  "
   ]
  },
  {
   "cell_type": "code",
   "execution_count": null,
   "id": "8c5d0796",
   "metadata": {},
   "outputs": [],
   "source": [
    "model.save('mdeol_chenceng0415v2.h5')"
   ]
  },
  {
   "cell_type": "code",
   "execution_count": null,
   "id": "09a7c07c",
   "metadata": {},
   "outputs": [],
   "source": []
  },
  {
   "cell_type": "code",
   "execution_count": null,
   "id": "61e605d4",
   "metadata": {},
   "outputs": [],
   "source": [
    "covn_base.trainable = True\n",
    "\n",
    "fine_tune_at = -5\n",
    "\n",
    "for layer in covn_base.layers[:fine_tune_at]:\n",
    "    layers.trainable = False\n",
    "\n",
    "# 一定要以更低的学习速率\n",
    "model.compile( loss='sparse_categorical_crossentropy', \n",
    "              optimizer=tf.keras.optimizers.Adam(learning_rate=0.00001/20),\n",
    "              metrics=['acc']\n",
    "             )\n",
    "initial_epochs = 320      #已经训练的epoch\n",
    "fine_tune_epochs = 50    #继续训练的epoch\n",
    "total_epochs = initial_epochs + fine_tune_epochs"
   ]
  },
  {
   "cell_type": "code",
   "execution_count": null,
   "id": "44f596a8",
   "metadata": {},
   "outputs": [],
   "source": [
    "history = model.fit(\n",
    "    train_image_ds,\n",
    "    steps_per_epoch = train_count//BATCH_SIZE,\n",
    "    epochs=total_epochs,\n",
    "    initial_epoch=initial_epochs,\n",
    "    validation_data=test_image_ds,\n",
    "    validation_steps=test_count//BATCH_SIZE\n",
    ")"
   ]
  },
  {
   "cell_type": "code",
   "execution_count": null,
   "id": "74304b85",
   "metadata": {},
   "outputs": [],
   "source": [
    "plt.plot(history.history['loss'], 'r', label='Training loss')\n",
    "plt.plot(history.history['val_loss'], 'b', label='Validation loss')\n",
    "plt.xlabel('Epoch')  # x轴变量名称  \n",
    "plt.ylabel('Loss')  # y轴变量名称  \n",
    "plt.legend()  # 画出曲线图标  "
   ]
  },
  {
   "cell_type": "code",
   "execution_count": null,
   "id": "62d32d4f",
   "metadata": {},
   "outputs": [],
   "source": [
    "plt.plot(history.history['acc'], 'r', label='Training Acc')\n",
    "plt.plot(history.history['val_acc'], 'b', label='Validation Acc')\n",
    "plt.xlabel('Epoch')  # x轴变量名称  \n",
    "plt.ylabel('Acc')  # y轴变量名称  \n",
    "plt.legend()  # 画出曲线图标  "
   ]
  },
  {
   "cell_type": "code",
   "execution_count": null,
   "id": "337db8d5",
   "metadata": {},
   "outputs": [],
   "source": [
    "model.save('mdeol_chenceng0415v3.h5')"
   ]
  },
  {
   "cell_type": "code",
   "execution_count": null,
   "id": "1168bf33",
   "metadata": {},
   "outputs": [],
   "source": []
  },
  {
   "cell_type": "code",
   "execution_count": null,
   "id": "ed4be310",
   "metadata": {},
   "outputs": [],
   "source": [
    "covn_base.trainable = True\n",
    "\n",
    "fine_tune_at = -5\n",
    "\n",
    "for layer in covn_base.layers[:fine_tune_at]:\n",
    "    layers.trainable = False\n",
    "\n",
    "# 一定要以更低的学习速率\n",
    "model.compile( loss='sparse_categorical_crossentropy', \n",
    "              optimizer=tf.keras.optimizers.Adam(learning_rate=0.00001/40),\n",
    "              metrics=['acc']\n",
    "             )\n",
    "initial_epochs = 370      #已经训练的epoch\n",
    "fine_tune_epochs = 50    #继续训练的epoch\n",
    "total_epochs = initial_epochs + fine_tune_epochs"
   ]
  },
  {
   "cell_type": "code",
   "execution_count": null,
   "id": "61e8e88a",
   "metadata": {},
   "outputs": [],
   "source": [
    "history = model.fit(\n",
    "    train_image_ds,\n",
    "    steps_per_epoch = train_count//BATCH_SIZE,\n",
    "    epochs=total_epochs,\n",
    "    initial_epoch=initial_epochs,\n",
    "    validation_data=test_image_ds,\n",
    "    validation_steps=test_count//BATCH_SIZE\n",
    ")"
   ]
  },
  {
   "cell_type": "code",
   "execution_count": null,
   "id": "6c3aeda8",
   "metadata": {},
   "outputs": [],
   "source": [
    "plt.plot(history.history['loss'], 'r', label='Training loss')\n",
    "plt.plot(history.history['val_loss'], 'b', label='Validation loss')\n",
    "plt.xlabel('Epoch')  # x轴变量名称  \n",
    "plt.ylabel('Loss')  # y轴变量名称  \n",
    "plt.legend()  # 画出曲线图标  "
   ]
  },
  {
   "cell_type": "code",
   "execution_count": null,
   "id": "b06ef6e9",
   "metadata": {},
   "outputs": [],
   "source": [
    "plt.plot(history.history['acc'], 'r', label='Training Acc')\n",
    "plt.plot(history.history['val_acc'], 'b', label='Validation Acc')\n",
    "plt.xlabel('Epoch')  # x轴变量名称  \n",
    "plt.ylabel('Acc')  # y轴变量名称  \n",
    "plt.legend()  # 画出曲线图标  "
   ]
  },
  {
   "cell_type": "code",
   "execution_count": null,
   "id": "328f5f6f",
   "metadata": {},
   "outputs": [],
   "source": [
    "model.save('mdeol_chenceng0415v4.h5')"
   ]
  },
  {
   "cell_type": "code",
   "execution_count": null,
   "id": "2deded74",
   "metadata": {},
   "outputs": [],
   "source": [
    "new_model = tf.keras.models.load_model('mdeol_chenceng0415v4.h5')"
   ]
  },
  {
   "cell_type": "code",
   "execution_count": null,
   "id": "291644e9",
   "metadata": {},
   "outputs": [],
   "source": [
    "import time"
   ]
  },
  {
   "cell_type": "code",
   "execution_count": null,
   "id": "a4b891d2",
   "metadata": {},
   "outputs": [],
   "source": [
    "label_to_index = {'无缺陷': 0,'漏涂': 1,'流挂': 2,'堆积': 3}\n",
    "index_to_label = dict((v, k) for k, v in label_to_index.items())\n",
    "\n",
    "def judgement(img_path):\n",
    "    start =time.perf_counter()\n",
    "    img = load_predict_image(img_path)\n",
    "    img = tf.expand_dims(img, axis=0)\n",
    "    pred = new_model.predict(img)\n",
    "    print(index_to_label.get(np.argmax(pred)))\n",
    "    end = time.perf_counter()\n",
    "    print('Running time: %s Seconds'%(end-start))"
   ]
  },
  {
   "cell_type": "code",
   "execution_count": null,
   "id": "c3b483bd",
   "metadata": {},
   "outputs": [],
   "source": [
    "start =time.perf_counter()\n",
    "img_path = r'C:\\Users\\Administrator\\Desktop\\Workers\\chenceng\\gray_train\\2liugua\\12_2_8_12.jpg'\n",
    "img = load_predict_image(img_path)\n",
    "img = tf.expand_dims(img, axis=0)\n",
    "pred = new_model.predict(img)\n",
    "print(index_to_label.get(np.argmax(pred)))\n",
    "end = time.perf_counter()\n",
    "print('Running time: %s Seconds'%(end-start))"
   ]
  },
  {
   "cell_type": "code",
   "execution_count": null,
   "id": "96e67fbf",
   "metadata": {},
   "outputs": [],
   "source": [
    "judgement(r'C:\\Users\\Administrator\\Desktop\\Workers\\chenceng\\gray_train\\2liugua\\12_2_8_12.jpg')"
   ]
  },
  {
   "cell_type": "code",
   "execution_count": null,
   "id": "13e949f3",
   "metadata": {},
   "outputs": [],
   "source": []
  },
  {
   "cell_type": "code",
   "execution_count": null,
   "id": "8eaf536f",
   "metadata": {},
   "outputs": [],
   "source": []
  }
 ],
 "metadata": {
  "kernelspec": {
   "display_name": "TF",
   "language": "python",
   "name": "tf"
  },
  "language_info": {
   "codemirror_mode": {
    "name": "ipython",
    "version": 3
   },
   "file_extension": ".py",
   "mimetype": "text/x-python",
   "name": "python",
   "nbconvert_exporter": "python",
   "pygments_lexer": "ipython3",
   "version": "3.9.18"
  }
 },
 "nbformat": 4,
 "nbformat_minor": 5
}
